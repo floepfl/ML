{
 "cells": [
  {
   "cell_type": "code",
   "execution_count": 82,
   "metadata": {
    "Collapsed": "false"
   },
   "outputs": [
    {
     "name": "stdout",
     "output_type": "stream",
     "text": [
      "The autoreload extension is already loaded. To reload it, use:\n",
      "  %reload_ext autoreload\n"
     ]
    }
   ],
   "source": [
    "# Useful starting lines\n",
    "%matplotlib inline\n",
    "import numpy as np\n",
    "import matplotlib.pyplot as plt\n",
    "import torch\n",
    "import torch.nn as nn\n",
    "import torch.nn.functional as F\n",
    "from torch.autograd import Variable\n",
    "%load_ext autoreload\n",
    "%autoreload 2"
   ]
  },
  {
   "cell_type": "code",
   "execution_count": 136,
   "metadata": {
    "Collapsed": "false"
   },
   "outputs": [
    {
     "name": "stderr",
     "output_type": "stream",
     "text": [
      "/home/flo/EPFL/.venv-3.7.0/lib/python3.7/site-packages/ipykernel_launcher.py:2: RuntimeWarning: overflow encountered in exp\n",
      "  \n"
     ]
    }
   ],
   "source": [
    "x_tr = np.linspace(0, 30, 29).astype(np.float32).reshape(29,1)\n",
    "y_tr = np.exp(x_tr).astype(np.float32).reshape(29,1)"
   ]
  },
  {
   "cell_type": "code",
   "execution_count": 74,
   "metadata": {
    "Collapsed": "false"
   },
   "outputs": [],
   "source": [
    "# Defining a toy dataset\n",
    "x_train = np.array([[3.3], [4.4], [5.5], [6.71], [6.93], [4.168], \n",
    "                    [9.779], [6.182], [7.59], [2.167], [7.042], \n",
    "                    [10.791], [5.313], [7.997], [3.1]], dtype=np.float32)\n",
    "\n",
    "y_train = np.array([[1.7], [2.76], [2.09], [3.19], [1.694], [1.573], \n",
    "                    [3.366], [2.596], [2.53], [1.221], [2.827], \n",
    "                        [3.465], [1.65], [2.904], [1.3]], dtype=np.float32)"
   ]
  },
  {
   "cell_type": "markdown",
   "metadata": {
    "Collapsed": "false"
   },
   "source": [
    "## Linear regression"
   ]
  },
  {
   "cell_type": "code",
   "execution_count": 75,
   "metadata": {
    "Collapsed": "false"
   },
   "outputs": [
    {
     "name": "stdout",
     "output_type": "stream",
     "text": [
      "tensor([0., 1., 2.])\n",
      "Testing model: an input of [0. 1. 2.] gives a prediction:\n",
      " tensor([0.5000, 0.5100, 0.5200], grad_fn=<AddBackward0>)\n"
     ]
    }
   ],
   "source": [
    "class MyLinearRegression:\n",
    "    def __init__(self):\n",
    "        # TODO: Define the parameters of the model (weights and biases)\n",
    "        #self.weights = np.random.random(2)\n",
    "        self.w = Variable(torch.tensor([0.01]), requires_grad=True)\n",
    "        self.b = Variable(torch.tensor([0.5], requires_grad=True))\n",
    "    \n",
    "    def forward(self, x):\n",
    "        # TODO: implement forward computation - compute predictions based on the inputs\n",
    "        print(x)\n",
    "        return x * self.w + self.b\n",
    "\n",
    "    def parameters(self):\n",
    "        # TODO: this function should return a list of parameters of the model\n",
    "        return [self.w, self.b]\n",
    "\n",
    "    def __call__(self, x):\n",
    "        # Convenience function\n",
    "        return self.forward(x)\n",
    "\n",
    "\n",
    "def mselossfunc(pred, y):\n",
    "    # TODO: implement the MSE loss function\n",
    "    t = y - pred\n",
    "    return (1 / y.shape[0]) * torch.sum((t @ t.T))\n",
    "\n",
    "model = MyLinearRegression()\n",
    "numpy_inputs = np.asarray([0.0, 1.0, 2.0], dtype = np.float32)\n",
    "torch_inputs = Variable(torch.from_numpy(numpy_inputs))\n",
    "torch_outputs = model(torch_inputs)\n",
    "print(\"Testing model: an input of %s gives a prediction:\\n %s\" % (numpy_inputs, torch_outputs))"
   ]
  },
  {
   "cell_type": "code",
   "execution_count": 134,
   "metadata": {
    "Collapsed": "false"
   },
   "outputs": [],
   "source": [
    "def train(features, labels, model, lossfunc, optimizer, num_epoch):\n",
    "\n",
    "    for epoch in range(num_epoch):\n",
    "        # TODO: Step 1 - create torch variables corresponding to features and labels\n",
    "        torch_inputs = Variable(torch.from_numpy(features), requires_grad=True)\n",
    "        torch_outputs = Variable(torch.from_numpy(labels))\n",
    "        # TODO: Step 2 - compute model predictions and loss\n",
    "        torch_pred = model(torch_inputs)\n",
    "        loss = lossfunc(torch_pred, torch_outputs)\n",
    "        # TODO: Step 3 - do a backward pass and a gradient update step\n",
    "        optimizer.zero_grad()\n",
    "        loss.backward()\n",
    "        optimizer.step()\n",
    "        \n",
    "        if epoch % 10 == 0:\n",
    "            print ('Epoch [%d/%d], Loss: %.4f' \n",
    "                   %(epoch+1, num_epoch, loss))\n",
    "        \n",
    "        \n",
    "def visualize(x_train, y_train, model):\n",
    "    # A convenience function for visualizing predictions given by the model\n",
    "\n",
    "    predicted = model(Variable(torch.from_numpy(x_tr))).data.numpy()\n",
    "    order = np.argsort(x_tr, axis = 0)\n",
    "    plt.plot(x_tr[order].flatten(), y_tr[order].flatten(), 'ro', label='Original data')\n",
    "    plt.plot(x_tr[order].flatten(), predicted[order].flatten(), label='Fitted line')\n",
    "    plt.legend()\n",
    "    plt.show()"
   ]
  },
  {
   "cell_type": "code",
   "execution_count": 79,
   "metadata": {
    "Collapsed": "false"
   },
   "outputs": [
    {
     "name": "stdout",
     "output_type": "stream",
     "text": [
      "tensor([ 0.0000,  1.1111,  2.2222,  3.3333,  4.4444,  5.5556,  6.6667,  7.7778,\n",
      "         8.8889, 10.0000, 11.1111, 12.2222, 13.3333, 14.4444, 15.5556, 16.6667,\n",
      "        17.7778, 18.8889, 20.0000], dtype=torch.float64, requires_grad=True)\n",
      "Epoch [1/50], Loss: 9892294227924504.0000\n",
      "tensor([ 0.0000,  1.1111,  2.2222,  3.3333,  4.4444,  5.5556,  6.6667,  7.7778,\n",
      "         8.8889, 10.0000, 11.1111, 12.2222, 13.3333, 14.4444, 15.5556, 16.6667,\n",
      "        17.7778, 18.8889, 20.0000], dtype=torch.float64, requires_grad=True)\n",
      "tensor([ 0.0000,  1.1111,  2.2222,  3.3333,  4.4444,  5.5556,  6.6667,  7.7778,\n",
      "         8.8889, 10.0000, 11.1111, 12.2222, 13.3333, 14.4444, 15.5556, 16.6667,\n",
      "        17.7778, 18.8889, 20.0000], dtype=torch.float64, requires_grad=True)\n",
      "tensor([ 0.0000,  1.1111,  2.2222,  3.3333,  4.4444,  5.5556,  6.6667,  7.7778,\n",
      "         8.8889, 10.0000, 11.1111, 12.2222, 13.3333, 14.4444, 15.5556, 16.6667,\n",
      "        17.7778, 18.8889, 20.0000], dtype=torch.float64, requires_grad=True)\n",
      "tensor([ 0.0000,  1.1111,  2.2222,  3.3333,  4.4444,  5.5556,  6.6667,  7.7778,\n",
      "         8.8889, 10.0000, 11.1111, 12.2222, 13.3333, 14.4444, 15.5556, 16.6667,\n",
      "        17.7778, 18.8889, 20.0000], dtype=torch.float64, requires_grad=True)\n",
      "tensor([ 0.0000,  1.1111,  2.2222,  3.3333,  4.4444,  5.5556,  6.6667,  7.7778,\n",
      "         8.8889, 10.0000, 11.1111, 12.2222, 13.3333, 14.4444, 15.5556, 16.6667,\n",
      "        17.7778, 18.8889, 20.0000], dtype=torch.float64, requires_grad=True)\n",
      "tensor([ 0.0000,  1.1111,  2.2222,  3.3333,  4.4444,  5.5556,  6.6667,  7.7778,\n",
      "         8.8889, 10.0000, 11.1111, 12.2222, 13.3333, 14.4444, 15.5556, 16.6667,\n",
      "        17.7778, 18.8889, 20.0000], dtype=torch.float64, requires_grad=True)\n",
      "tensor([ 0.0000,  1.1111,  2.2222,  3.3333,  4.4444,  5.5556,  6.6667,  7.7778,\n",
      "         8.8889, 10.0000, 11.1111, 12.2222, 13.3333, 14.4444, 15.5556, 16.6667,\n",
      "        17.7778, 18.8889, 20.0000], dtype=torch.float64, requires_grad=True)\n",
      "tensor([ 0.0000,  1.1111,  2.2222,  3.3333,  4.4444,  5.5556,  6.6667,  7.7778,\n",
      "         8.8889, 10.0000, 11.1111, 12.2222, 13.3333, 14.4444, 15.5556, 16.6667,\n",
      "        17.7778, 18.8889, 20.0000], dtype=torch.float64, requires_grad=True)\n",
      "tensor([ 0.0000,  1.1111,  2.2222,  3.3333,  4.4444,  5.5556,  6.6667,  7.7778,\n",
      "         8.8889, 10.0000, 11.1111, 12.2222, 13.3333, 14.4444, 15.5556, 16.6667,\n",
      "        17.7778, 18.8889, 20.0000], dtype=torch.float64, requires_grad=True)\n",
      "tensor([ 0.0000,  1.1111,  2.2222,  3.3333,  4.4444,  5.5556,  6.6667,  7.7778,\n",
      "         8.8889, 10.0000, 11.1111, 12.2222, 13.3333, 14.4444, 15.5556, 16.6667,\n",
      "        17.7778, 18.8889, 20.0000], dtype=torch.float64, requires_grad=True)\n",
      "Epoch [11/50], Loss: 9892294227924504.0000\n",
      "tensor([ 0.0000,  1.1111,  2.2222,  3.3333,  4.4444,  5.5556,  6.6667,  7.7778,\n",
      "         8.8889, 10.0000, 11.1111, 12.2222, 13.3333, 14.4444, 15.5556, 16.6667,\n",
      "        17.7778, 18.8889, 20.0000], dtype=torch.float64, requires_grad=True)\n",
      "tensor([ 0.0000,  1.1111,  2.2222,  3.3333,  4.4444,  5.5556,  6.6667,  7.7778,\n",
      "         8.8889, 10.0000, 11.1111, 12.2222, 13.3333, 14.4444, 15.5556, 16.6667,\n",
      "        17.7778, 18.8889, 20.0000], dtype=torch.float64, requires_grad=True)\n",
      "tensor([ 0.0000,  1.1111,  2.2222,  3.3333,  4.4444,  5.5556,  6.6667,  7.7778,\n",
      "         8.8889, 10.0000, 11.1111, 12.2222, 13.3333, 14.4444, 15.5556, 16.6667,\n",
      "        17.7778, 18.8889, 20.0000], dtype=torch.float64, requires_grad=True)\n",
      "tensor([ 0.0000,  1.1111,  2.2222,  3.3333,  4.4444,  5.5556,  6.6667,  7.7778,\n",
      "         8.8889, 10.0000, 11.1111, 12.2222, 13.3333, 14.4444, 15.5556, 16.6667,\n",
      "        17.7778, 18.8889, 20.0000], dtype=torch.float64, requires_grad=True)\n",
      "tensor([ 0.0000,  1.1111,  2.2222,  3.3333,  4.4444,  5.5556,  6.6667,  7.7778,\n",
      "         8.8889, 10.0000, 11.1111, 12.2222, 13.3333, 14.4444, 15.5556, 16.6667,\n",
      "        17.7778, 18.8889, 20.0000], dtype=torch.float64, requires_grad=True)\n",
      "tensor([ 0.0000,  1.1111,  2.2222,  3.3333,  4.4444,  5.5556,  6.6667,  7.7778,\n",
      "         8.8889, 10.0000, 11.1111, 12.2222, 13.3333, 14.4444, 15.5556, 16.6667,\n",
      "        17.7778, 18.8889, 20.0000], dtype=torch.float64, requires_grad=True)\n",
      "tensor([ 0.0000,  1.1111,  2.2222,  3.3333,  4.4444,  5.5556,  6.6667,  7.7778,\n",
      "         8.8889, 10.0000, 11.1111, 12.2222, 13.3333, 14.4444, 15.5556, 16.6667,\n",
      "        17.7778, 18.8889, 20.0000], dtype=torch.float64, requires_grad=True)\n",
      "tensor([ 0.0000,  1.1111,  2.2222,  3.3333,  4.4444,  5.5556,  6.6667,  7.7778,\n",
      "         8.8889, 10.0000, 11.1111, 12.2222, 13.3333, 14.4444, 15.5556, 16.6667,\n",
      "        17.7778, 18.8889, 20.0000], dtype=torch.float64, requires_grad=True)\n",
      "tensor([ 0.0000,  1.1111,  2.2222,  3.3333,  4.4444,  5.5556,  6.6667,  7.7778,\n",
      "         8.8889, 10.0000, 11.1111, 12.2222, 13.3333, 14.4444, 15.5556, 16.6667,\n",
      "        17.7778, 18.8889, 20.0000], dtype=torch.float64, requires_grad=True)\n",
      "tensor([ 0.0000,  1.1111,  2.2222,  3.3333,  4.4444,  5.5556,  6.6667,  7.7778,\n",
      "         8.8889, 10.0000, 11.1111, 12.2222, 13.3333, 14.4444, 15.5556, 16.6667,\n",
      "        17.7778, 18.8889, 20.0000], dtype=torch.float64, requires_grad=True)\n",
      "Epoch [21/50], Loss: 9892294227924504.0000\n",
      "tensor([ 0.0000,  1.1111,  2.2222,  3.3333,  4.4444,  5.5556,  6.6667,  7.7778,\n",
      "         8.8889, 10.0000, 11.1111, 12.2222, 13.3333, 14.4444, 15.5556, 16.6667,\n",
      "        17.7778, 18.8889, 20.0000], dtype=torch.float64, requires_grad=True)\n",
      "tensor([ 0.0000,  1.1111,  2.2222,  3.3333,  4.4444,  5.5556,  6.6667,  7.7778,\n",
      "         8.8889, 10.0000, 11.1111, 12.2222, 13.3333, 14.4444, 15.5556, 16.6667,\n",
      "        17.7778, 18.8889, 20.0000], dtype=torch.float64, requires_grad=True)\n",
      "tensor([ 0.0000,  1.1111,  2.2222,  3.3333,  4.4444,  5.5556,  6.6667,  7.7778,\n",
      "         8.8889, 10.0000, 11.1111, 12.2222, 13.3333, 14.4444, 15.5556, 16.6667,\n",
      "        17.7778, 18.8889, 20.0000], dtype=torch.float64, requires_grad=True)\n",
      "tensor([ 0.0000,  1.1111,  2.2222,  3.3333,  4.4444,  5.5556,  6.6667,  7.7778,\n",
      "         8.8889, 10.0000, 11.1111, 12.2222, 13.3333, 14.4444, 15.5556, 16.6667,\n",
      "        17.7778, 18.8889, 20.0000], dtype=torch.float64, requires_grad=True)\n",
      "tensor([ 0.0000,  1.1111,  2.2222,  3.3333,  4.4444,  5.5556,  6.6667,  7.7778,\n",
      "         8.8889, 10.0000, 11.1111, 12.2222, 13.3333, 14.4444, 15.5556, 16.6667,\n",
      "        17.7778, 18.8889, 20.0000], dtype=torch.float64, requires_grad=True)\n",
      "tensor([ 0.0000,  1.1111,  2.2222,  3.3333,  4.4444,  5.5556,  6.6667,  7.7778,\n",
      "         8.8889, 10.0000, 11.1111, 12.2222, 13.3333, 14.4444, 15.5556, 16.6667,\n",
      "        17.7778, 18.8889, 20.0000], dtype=torch.float64, requires_grad=True)\n",
      "tensor([ 0.0000,  1.1111,  2.2222,  3.3333,  4.4444,  5.5556,  6.6667,  7.7778,\n",
      "         8.8889, 10.0000, 11.1111, 12.2222, 13.3333, 14.4444, 15.5556, 16.6667,\n",
      "        17.7778, 18.8889, 20.0000], dtype=torch.float64, requires_grad=True)\n",
      "tensor([ 0.0000,  1.1111,  2.2222,  3.3333,  4.4444,  5.5556,  6.6667,  7.7778,\n",
      "         8.8889, 10.0000, 11.1111, 12.2222, 13.3333, 14.4444, 15.5556, 16.6667,\n",
      "        17.7778, 18.8889, 20.0000], dtype=torch.float64, requires_grad=True)\n",
      "tensor([ 0.0000,  1.1111,  2.2222,  3.3333,  4.4444,  5.5556,  6.6667,  7.7778,\n",
      "         8.8889, 10.0000, 11.1111, 12.2222, 13.3333, 14.4444, 15.5556, 16.6667,\n",
      "        17.7778, 18.8889, 20.0000], dtype=torch.float64, requires_grad=True)\n",
      "tensor([ 0.0000,  1.1111,  2.2222,  3.3333,  4.4444,  5.5556,  6.6667,  7.7778,\n",
      "         8.8889, 10.0000, 11.1111, 12.2222, 13.3333, 14.4444, 15.5556, 16.6667,\n",
      "        17.7778, 18.8889, 20.0000], dtype=torch.float64, requires_grad=True)\n",
      "Epoch [31/50], Loss: 9892294227924504.0000\n",
      "tensor([ 0.0000,  1.1111,  2.2222,  3.3333,  4.4444,  5.5556,  6.6667,  7.7778,\n",
      "         8.8889, 10.0000, 11.1111, 12.2222, 13.3333, 14.4444, 15.5556, 16.6667,\n",
      "        17.7778, 18.8889, 20.0000], dtype=torch.float64, requires_grad=True)\n",
      "tensor([ 0.0000,  1.1111,  2.2222,  3.3333,  4.4444,  5.5556,  6.6667,  7.7778,\n",
      "         8.8889, 10.0000, 11.1111, 12.2222, 13.3333, 14.4444, 15.5556, 16.6667,\n",
      "        17.7778, 18.8889, 20.0000], dtype=torch.float64, requires_grad=True)\n",
      "tensor([ 0.0000,  1.1111,  2.2222,  3.3333,  4.4444,  5.5556,  6.6667,  7.7778,\n",
      "         8.8889, 10.0000, 11.1111, 12.2222, 13.3333, 14.4444, 15.5556, 16.6667,\n",
      "        17.7778, 18.8889, 20.0000], dtype=torch.float64, requires_grad=True)\n",
      "tensor([ 0.0000,  1.1111,  2.2222,  3.3333,  4.4444,  5.5556,  6.6667,  7.7778,\n",
      "         8.8889, 10.0000, 11.1111, 12.2222, 13.3333, 14.4444, 15.5556, 16.6667,\n",
      "        17.7778, 18.8889, 20.0000], dtype=torch.float64, requires_grad=True)\n",
      "tensor([ 0.0000,  1.1111,  2.2222,  3.3333,  4.4444,  5.5556,  6.6667,  7.7778,\n",
      "         8.8889, 10.0000, 11.1111, 12.2222, 13.3333, 14.4444, 15.5556, 16.6667,\n",
      "        17.7778, 18.8889, 20.0000], dtype=torch.float64, requires_grad=True)\n",
      "tensor([ 0.0000,  1.1111,  2.2222,  3.3333,  4.4444,  5.5556,  6.6667,  7.7778,\n",
      "         8.8889, 10.0000, 11.1111, 12.2222, 13.3333, 14.4444, 15.5556, 16.6667,\n",
      "        17.7778, 18.8889, 20.0000], dtype=torch.float64, requires_grad=True)\n",
      "tensor([ 0.0000,  1.1111,  2.2222,  3.3333,  4.4444,  5.5556,  6.6667,  7.7778,\n",
      "         8.8889, 10.0000, 11.1111, 12.2222, 13.3333, 14.4444, 15.5556, 16.6667,\n",
      "        17.7778, 18.8889, 20.0000], dtype=torch.float64, requires_grad=True)\n",
      "tensor([ 0.0000,  1.1111,  2.2222,  3.3333,  4.4444,  5.5556,  6.6667,  7.7778,\n",
      "         8.8889, 10.0000, 11.1111, 12.2222, 13.3333, 14.4444, 15.5556, 16.6667,\n",
      "        17.7778, 18.8889, 20.0000], dtype=torch.float64, requires_grad=True)\n",
      "tensor([ 0.0000,  1.1111,  2.2222,  3.3333,  4.4444,  5.5556,  6.6667,  7.7778,\n",
      "         8.8889, 10.0000, 11.1111, 12.2222, 13.3333, 14.4444, 15.5556, 16.6667,\n",
      "        17.7778, 18.8889, 20.0000], dtype=torch.float64, requires_grad=True)\n",
      "tensor([ 0.0000,  1.1111,  2.2222,  3.3333,  4.4444,  5.5556,  6.6667,  7.7778,\n",
      "         8.8889, 10.0000, 11.1111, 12.2222, 13.3333, 14.4444, 15.5556, 16.6667,\n",
      "        17.7778, 18.8889, 20.0000], dtype=torch.float64, requires_grad=True)\n",
      "Epoch [41/50], Loss: 9892294227924504.0000\n",
      "tensor([ 0.0000,  1.1111,  2.2222,  3.3333,  4.4444,  5.5556,  6.6667,  7.7778,\n",
      "         8.8889, 10.0000, 11.1111, 12.2222, 13.3333, 14.4444, 15.5556, 16.6667,\n",
      "        17.7778, 18.8889, 20.0000], dtype=torch.float64, requires_grad=True)\n",
      "tensor([ 0.0000,  1.1111,  2.2222,  3.3333,  4.4444,  5.5556,  6.6667,  7.7778,\n",
      "         8.8889, 10.0000, 11.1111, 12.2222, 13.3333, 14.4444, 15.5556, 16.6667,\n",
      "        17.7778, 18.8889, 20.0000], dtype=torch.float64, requires_grad=True)\n",
      "tensor([ 0.0000,  1.1111,  2.2222,  3.3333,  4.4444,  5.5556,  6.6667,  7.7778,\n",
      "         8.8889, 10.0000, 11.1111, 12.2222, 13.3333, 14.4444, 15.5556, 16.6667,\n",
      "        17.7778, 18.8889, 20.0000], dtype=torch.float64, requires_grad=True)\n",
      "tensor([ 0.0000,  1.1111,  2.2222,  3.3333,  4.4444,  5.5556,  6.6667,  7.7778,\n",
      "         8.8889, 10.0000, 11.1111, 12.2222, 13.3333, 14.4444, 15.5556, 16.6667,\n",
      "        17.7778, 18.8889, 20.0000], dtype=torch.float64, requires_grad=True)\n",
      "tensor([ 0.0000,  1.1111,  2.2222,  3.3333,  4.4444,  5.5556,  6.6667,  7.7778,\n",
      "         8.8889, 10.0000, 11.1111, 12.2222, 13.3333, 14.4444, 15.5556, 16.6667,\n",
      "        17.7778, 18.8889, 20.0000], dtype=torch.float64, requires_grad=True)\n",
      "tensor([ 0.0000,  1.1111,  2.2222,  3.3333,  4.4444,  5.5556,  6.6667,  7.7778,\n",
      "         8.8889, 10.0000, 11.1111, 12.2222, 13.3333, 14.4444, 15.5556, 16.6667,\n",
      "        17.7778, 18.8889, 20.0000], dtype=torch.float64, requires_grad=True)\n",
      "tensor([ 0.0000,  1.1111,  2.2222,  3.3333,  4.4444,  5.5556,  6.6667,  7.7778,\n",
      "         8.8889, 10.0000, 11.1111, 12.2222, 13.3333, 14.4444, 15.5556, 16.6667,\n",
      "        17.7778, 18.8889, 20.0000], dtype=torch.float64, requires_grad=True)\n",
      "tensor([ 0.0000,  1.1111,  2.2222,  3.3333,  4.4444,  5.5556,  6.6667,  7.7778,\n",
      "         8.8889, 10.0000, 11.1111, 12.2222, 13.3333, 14.4444, 15.5556, 16.6667,\n",
      "        17.7778, 18.8889, 20.0000], dtype=torch.float64, requires_grad=True)\n",
      "tensor([ 0.0000,  1.1111,  2.2222,  3.3333,  4.4444,  5.5556,  6.6667,  7.7778,\n",
      "         8.8889, 10.0000, 11.1111, 12.2222, 13.3333, 14.4444, 15.5556, 16.6667,\n",
      "        17.7778, 18.8889, 20.0000], dtype=torch.float64, requires_grad=True)\n",
      "tensor([[ 3.3000],\n",
      "        [ 4.4000],\n",
      "        [ 5.5000],\n",
      "        [ 6.7100],\n",
      "        [ 6.9300],\n",
      "        [ 4.1680],\n",
      "        [ 9.7790],\n",
      "        [ 6.1820],\n",
      "        [ 7.5900],\n",
      "        [ 2.1670],\n",
      "        [ 7.0420],\n",
      "        [10.7910],\n",
      "        [ 5.3130],\n",
      "        [ 7.9970],\n",
      "        [ 3.1000]])\n"
     ]
    },
    {
     "data": {
      "image/png": "[encoded data removed]",
      "text/plain": [
       "<Figure size 432x288 with 1 Axes>"
      ]
     },
     "metadata": {
      "needs_background": "light"
     },
     "output_type": "display_data"
    }
   ],
   "source": [
    "# Training and visualizing predictions made by linear regression model\n",
    "optimizer = torch.optim.SGD(model.parameters(), lr=1e-3)\n",
    "\n",
    "train(features = x_tr,\n",
    "      labels = y_tr,\n",
    "      model = model,\n",
    "      lossfunc = mselossfunc, \n",
    "      optimizer = optimizer,\n",
    "      num_epoch = 50)\n",
    "visualize(x_train, y_train, model)"
   ]
  },
  {
   "cell_type": "markdown",
   "metadata": {
    "Collapsed": "false"
   },
   "source": [
    "## Linear Regression (using nn package)"
   ]
  },
  {
   "cell_type": "code",
   "execution_count": 80,
   "metadata": {
    "Collapsed": "false"
   },
   "outputs": [
    {
     "name": "stdout",
     "output_type": "stream",
     "text": [
      "Epoch [1/100], Loss: 1.9406\n",
      "Epoch [11/100], Loss: 0.4630\n",
      "Epoch [21/100], Loss: 0.2205\n",
      "Epoch [31/100], Loss: 0.1807\n",
      "Epoch [41/100], Loss: 0.1741\n",
      "Epoch [51/100], Loss: 0.1730\n",
      "Epoch [61/100], Loss: 0.1728\n",
      "Epoch [71/100], Loss: 0.1728\n",
      "Epoch [81/100], Loss: 0.1728\n",
      "Epoch [91/100], Loss: 0.1727\n"
     ]
    },
    {
     "data": {
      "image/png": "[encoded data removed]",
      "text/plain": [
       "<Figure size 432x288 with 1 Axes>"
      ]
     },
     "metadata": {
      "needs_background": "light"
     },
     "output_type": "display_data"
    }
   ],
   "source": [
    "class NNLinearRegression(nn.Module):\n",
    "    def __init__(self):\n",
    "        super(NNLinearRegression, self).__init__()\n",
    "        self.fc1 = nn.Linear(1, 1)\n",
    "        \n",
    "    def forward(self, x):\n",
    "        # TODO: implement forward computation\n",
    "        x = self.fc1(x)\n",
    "        return x\n",
    "    \n",
    "# Training and visualizing predictions made by linear regression model (nn package)\n",
    "# TODO: use loss function from nn package\n",
    "lossfunc = nn.MSELoss()\n",
    "\n",
    "model = NNLinearRegression()\n",
    "\n",
    "optimizer = torch.optim.SGD(model.parameters(), lr=1e-3)\n",
    "\n",
    "train(features = x_train,\n",
    "      labels = y_train,\n",
    "      model = model,\n",
    "      lossfunc = lossfunc,\n",
    "      optimizer = optimizer,\n",
    "      num_epoch = 100)\n",
    "visualize(x_train, y_train, model)"
   ]
  },
  {
   "cell_type": "markdown",
   "metadata": {
    "Collapsed": "false"
   },
   "source": [
    "## MLP"
   ]
  },
  {
   "cell_type": "code",
   "execution_count": 135,
   "metadata": {
    "Collapsed": "false"
   },
   "outputs": [
    {
     "name": "stdout",
     "output_type": "stream",
     "text": [
      "Epoch [1/300], Loss: 4461359465745462643916800.0000\n",
      "Epoch [11/300], Loss: 4461359465745462643916800.0000\n",
      "Epoch [21/300], Loss: 4461359465745462643916800.0000\n",
      "Epoch [31/300], Loss: 4461359465745462643916800.0000\n",
      "Epoch [41/300], Loss: 4461359465745462643916800.0000\n",
      "Epoch [51/300], Loss: 4461359465745462643916800.0000\n",
      "Epoch [61/300], Loss: 4461359465745462643916800.0000\n",
      "Epoch [71/300], Loss: 4461359465745462643916800.0000\n",
      "Epoch [81/300], Loss: 4461359465745462643916800.0000\n",
      "Epoch [91/300], Loss: 4461359465745462643916800.0000\n",
      "Epoch [101/300], Loss: 4461359465745462643916800.0000\n",
      "Epoch [111/300], Loss: 4461359465745462643916800.0000\n",
      "Epoch [121/300], Loss: 4461359465745462643916800.0000\n",
      "Epoch [131/300], Loss: 4461359465745462643916800.0000\n",
      "Epoch [141/300], Loss: 4461359465745462643916800.0000\n",
      "Epoch [151/300], Loss: 4461359465745462643916800.0000\n",
      "Epoch [161/300], Loss: 4461359465745462643916800.0000\n",
      "Epoch [171/300], Loss: 4461359465745462643916800.0000\n",
      "Epoch [181/300], Loss: 4461359465745462643916800.0000\n",
      "Epoch [191/300], Loss: 4461359465745462643916800.0000\n",
      "Epoch [201/300], Loss: 4461359465745462643916800.0000\n",
      "Epoch [211/300], Loss: 4461359465745462643916800.0000\n",
      "Epoch [221/300], Loss: 4461359465745462643916800.0000\n",
      "Epoch [231/300], Loss: 4461359465745462643916800.0000\n",
      "Epoch [241/300], Loss: 4461359465745462643916800.0000\n",
      "Epoch [251/300], Loss: 4461359465745462643916800.0000\n",
      "Epoch [261/300], Loss: 4461359465745462643916800.0000\n",
      "Epoch [271/300], Loss: 4461359465745462643916800.0000\n",
      "Epoch [281/300], Loss: 4461359465745462643916800.0000\n",
      "Epoch [291/300], Loss: 4461359465745462643916800.0000\n"
     ]
    },
    {
     "data": {
      "image/png": "[encoded data removed]",
      "text/plain": [
       "<Figure size 432x288 with 1 Axes>"
      ]
     },
     "metadata": {
      "needs_background": "light"
     },
     "output_type": "display_data"
    }
   ],
   "source": [
    "class MLP(nn.Module):\n",
    "    def __init__(self, hidden_size):\n",
    "        super(MLP, self).__init__()\n",
    "        # TODO: Define parameters / layers of a multi-layered perceptron with one hidden layer\n",
    "        self.fc1 = nn.Linear(1, hidden_size)\n",
    "        self.fc2 = nn.Linear(hidden_size, 1)\n",
    "    \n",
    "    def forward(self, x):\n",
    "        x = torch.sigmoid(self.fc1(x))\n",
    "        x = self.fc2(x)\n",
    "        return x\n",
    "    \n",
    "# TODO: Play with learning rate, hidden size, and optimizer type for multi-layered perceptron\n",
    "hidden_size = 100\n",
    "learning_rate = 0.01\n",
    "\n",
    "\n",
    "model = MLP(hidden_size = hidden_size)\n",
    "\n",
    "optimizer = torch.optim.Adam(model.parameters(), learning_rate)\n",
    "\n",
    "train(features = x_tr,\n",
    "      labels = y_tr,\n",
    "      model = model,\n",
    "      lossfunc = lossfunc,\n",
    "      optimizer = optimizer,\n",
    "      num_epoch = 300)\n",
    "visualize(x_train, y_train, model)"
   ]
  },
  {
   "cell_type": "code",
   "execution_count": 133,
   "metadata": {
    "Collapsed": "false"
   },
   "outputs": [
    {
     "data": {
      "text/plain": [
       "[<matplotlib.lines.Line2D at 0x7f58f0ac1668>]"
      ]
     },
     "execution_count": 133,
     "metadata": {},
     "output_type": "execute_result"
    },
    {
     "data": {
      "image/png": "[encoded data removed]",
      "text/plain": [
       "<Figure size 432x288 with 1 Axes>"
      ]
     },
     "metadata": {
      "needs_background": "light"
     },
     "output_type": "display_data"
    }
   ],
   "source": [
    "plt.plot(x_tr, y_tr)"
   ]
  },
  {
   "cell_type": "code",
   "execution_count": null,
   "metadata": {
    "Collapsed": "false"
   },
   "outputs": [],
   "source": []
  }
 ],
 "metadata": {
  "kernelspec": {
   "display_name": "Python 3",
   "language": "python",
   "name": "python3"
  },
  "language_info": {
   "codemirror_mode": {
    "name": "ipython",
    "version": 3
   },
   "file_extension": ".py",
   "mimetype": "text/x-python",
   "name": "python",
   "nbconvert_exporter": "python",
   "pygments_lexer": "ipython3",
   "version": "3.7.0"
  }
 },
 "nbformat": 4,
 "nbformat_minor": 4
}
